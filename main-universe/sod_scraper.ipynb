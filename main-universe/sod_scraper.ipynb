{
  "nbformat": 4,
  "nbformat_minor": 0,
  "metadata": {
    "colab": {
      "provenance": []
    },
    "kernelspec": {
      "name": "python3",
      "display_name": "Python 3"
    },
    "language_info": {
      "name": "python"
    }
  },
  "cells": [
    {
      "cell_type": "code",
      "execution_count": 15,
      "metadata": {
        "id": "IH5MPxQAscwU"
      },
      "outputs": [],
      "source": [
        "from bs4 import BeautifulSoup\n",
        "import requests\n",
        "import pandas as pd"
      ]
    },
    {
      "cell_type": "code",
      "source": [
        "r = requests.get('https://suikoden.fandom.com/wiki/108_Stars_of_Destiny')\n",
        "soup = BeautifulSoup(r.text, 'html.parser')\n",
        "\n",
        "sod_table_1 = soup.find_all('table', attrs={'class':'toccolours'})[0]\n",
        "the_list = []\n",
        "\n",
        "for row in sod_table_1.find_all('tr'):\n",
        "  tds = row.find_all('td')\n",
        "  if len(tds) == 9:\n",
        "\n",
        "    star = None\n",
        "\n",
        "    for index,td in enumerate(tds):\n",
        "        if int(index) == 0:\n",
        "          star = td.text\n",
        "        else:\n",
        "          if index in [1,2,3,4,5]:\n",
        "            a = td.find_all('a')\n",
        "            if len(a) == 3:\n",
        "              the_list.append({\n",
        "                  'series': index,\n",
        "                  'star': str(star).split('(')[0].replace('\\n','').replace(\"'\",''),\n",
        "                  'name': str(a[2].text).replace('\\n',''),\n",
        "              })\n",
        "\n",
        "df = pd.DataFrame(the_list)\n",
        "df.to_csv('sod.csv', index=False)"
      ],
      "metadata": {
        "id": "o_XKPifJ0MIF"
      },
      "execution_count": 61,
      "outputs": []
    }
  ]
}
